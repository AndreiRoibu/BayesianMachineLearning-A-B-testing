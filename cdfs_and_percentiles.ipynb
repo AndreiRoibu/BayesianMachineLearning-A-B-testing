{
 "metadata": {
  "language_info": {
   "codemirror_mode": {
    "name": "ipython",
    "version": 3
   },
   "file_extension": ".py",
   "mimetype": "text/x-python",
   "name": "python",
   "nbconvert_exporter": "python",
   "pygments_lexer": "ipython3",
   "version": "3.8.2"
  },
  "orig_nbformat": 2,
  "kernelspec": {
   "name": "python382jvsc74a57bd093a05a89873ba223f8708a9a24f96c4bda6cf0d779011c577143e73f60f844eb",
   "display_name": "Python 3.8.2 64-bit ('env': venv)"
  },
  "metadata": {
   "interpreter": {
    "hash": "93a05a89873ba223f8708a9a24f96c4bda6cf0d779011c577143e73f60f844eb"
   }
  }
 },
 "nbformat": 4,
 "nbformat_minor": 2,
 "cells": [
  {
   "cell_type": "code",
   "execution_count": 3,
   "metadata": {},
   "outputs": [],
   "source": [
    "import numpy as np\n",
    "import matplotlib.pyplot as plt\n",
    "import seaborn as sns\n",
    "sns.set()\n",
    "from scipy.stats import norm\n",
    "np.random.seed(0)"
   ]
  },
  {
   "cell_type": "code",
   "execution_count": 4,
   "metadata": {},
   "outputs": [],
   "source": [
    "mu = 170\n",
    "sd = 7"
   ]
  },
  {
   "cell_type": "code",
   "execution_count": 5,
   "metadata": {},
   "outputs": [],
   "source": [
    "# generate samples from our distribution\n",
    "x = norm.rvs(loc=mu, scale=sd, size=100)"
   ]
  },
  {
   "cell_type": "code",
   "execution_count": 6,
   "metadata": {},
   "outputs": [
    {
     "output_type": "execute_result",
     "data": {
      "text/plain": [
       "170.41865610874137"
      ]
     },
     "metadata": {},
     "execution_count": 6
    }
   ],
   "source": [
    "x.mean() # maximum likelihood mean"
   ]
  },
  {
   "cell_type": "code",
   "execution_count": 8,
   "metadata": {},
   "outputs": [
    {
     "output_type": "execute_result",
     "data": {
      "text/plain": [
       "49.77550434153163"
      ]
     },
     "metadata": {},
     "execution_count": 8
    }
   ],
   "source": [
    "x.var() # maximum likelihood variance"
   ]
  },
  {
   "cell_type": "code",
   "execution_count": 9,
   "metadata": {},
   "outputs": [
    {
     "output_type": "execute_result",
     "data": {
      "text/plain": [
       "49.77550434153163"
      ]
     },
     "metadata": {},
     "execution_count": 9
    }
   ],
   "source": [
    "((x-x.mean()) ** 2).mean() # maximum likelihood variance (alternative)"
   ]
  },
  {
   "cell_type": "code",
   "execution_count": 10,
   "metadata": {},
   "outputs": [
    {
     "output_type": "execute_result",
     "data": {
      "text/plain": [
       "7.055175713016057"
      ]
     },
     "metadata": {},
     "execution_count": 10
    }
   ],
   "source": [
    "# maximum likelihood std\n",
    "x.std()"
   ]
  },
  {
   "cell_type": "code",
   "execution_count": 11,
   "metadata": {},
   "outputs": [
    {
     "output_type": "execute_result",
     "data": {
      "text/plain": [
       "50.278287213668314"
      ]
     },
     "metadata": {},
     "execution_count": 11
    }
   ],
   "source": [
    "# unbiased variance\n",
    "x.var(ddof=1)"
   ]
  },
  {
   "cell_type": "code",
   "execution_count": 13,
   "metadata": {},
   "outputs": [
    {
     "output_type": "execute_result",
     "data": {
      "text/plain": [
       "50.278287213668314"
      ]
     },
     "metadata": {},
     "execution_count": 13
    }
   ],
   "source": [
    "((x-x.mean()) ** 2).sum() / (len(x) - 1)"
   ]
  },
  {
   "cell_type": "code",
   "execution_count": 14,
   "metadata": {},
   "outputs": [
    {
     "output_type": "execute_result",
     "data": {
      "text/plain": [
       "7.090718384879512"
      ]
     },
     "metadata": {},
     "execution_count": 14
    }
   ],
   "source": [
    "# unbiased std\n",
    "x.std(ddof=1)"
   ]
  },
  {
   "cell_type": "code",
   "execution_count": 18,
   "metadata": {},
   "outputs": [
    {
     "output_type": "execute_result",
     "data": {
      "text/plain": [
       "181.5139753886603"
      ]
     },
     "metadata": {},
     "execution_count": 18
    }
   ],
   "source": [
    "# at what height are we in the 95th percentile?\n",
    "norm.ppf(0.95, loc=mu, scale=sd)"
   ]
  },
  {
   "cell_type": "code",
   "execution_count": 19,
   "metadata": {},
   "outputs": [
    {
     "output_type": "execute_result",
     "data": {
      "text/plain": [
       "0.07656372550983476"
      ]
     },
     "metadata": {},
     "execution_count": 19
    }
   ],
   "source": [
    "# what is the percentile for 160cm tall?\n",
    "norm.cdf(160, loc=mu, scale=sd)"
   ]
  },
  {
   "cell_type": "code",
   "execution_count": 20,
   "metadata": {},
   "outputs": [
    {
     "output_type": "execute_result",
     "data": {
      "text/plain": [
       "0.07656372550983481"
      ]
     },
     "metadata": {},
     "execution_count": 20
    }
   ],
   "source": [
    "# what is the probability of height > 180 cm? \n",
    "1 - norm.cdf(180, loc=mu, scale=sd)"
   ]
  },
  {
   "cell_type": "code",
   "execution_count": 21,
   "metadata": {},
   "outputs": [
    {
     "output_type": "execute_result",
     "data": {
      "text/plain": [
       "0.07656372550983476"
      ]
     },
     "metadata": {},
     "execution_count": 21
    }
   ],
   "source": [
    "norm.sf(180, loc=mu, scale=sd)"
   ]
  },
  {
   "cell_type": "code",
   "execution_count": null,
   "metadata": {},
   "outputs": [],
   "source": []
  }
 ]
}