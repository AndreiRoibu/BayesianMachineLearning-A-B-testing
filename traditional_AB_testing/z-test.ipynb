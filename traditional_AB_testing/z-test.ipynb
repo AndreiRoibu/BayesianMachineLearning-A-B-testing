{
 "metadata": {
  "language_info": {
   "codemirror_mode": {
    "name": "ipython",
    "version": 3
   },
   "file_extension": ".py",
   "mimetype": "text/x-python",
   "name": "python",
   "nbconvert_exporter": "python",
   "pygments_lexer": "ipython3",
   "version": "3.8.2"
  },
  "orig_nbformat": 2,
  "kernelspec": {
   "name": "python3",
   "display_name": "Python 3.8.2 64-bit ('env': venv)"
  },
  "interpreter": {
   "hash": "93a05a89873ba223f8708a9a24f96c4bda6cf0d779011c577143e73f60f844eb"
  }
 },
 "nbformat": 4,
 "nbformat_minor": 2,
 "cells": [
  {
   "cell_type": "code",
   "execution_count": 1,
   "metadata": {},
   "outputs": [],
   "source": [
    "import numpy as np\n",
    "from scipy.stats import norm\n",
    "from statsmodels.stats.weightstats import ztest"
   ]
  },
  {
   "cell_type": "code",
   "execution_count": 3,
   "metadata": {},
   "outputs": [],
   "source": [
    "np.random.seed(0)"
   ]
  },
  {
   "cell_type": "code",
   "execution_count": 4,
   "metadata": {},
   "outputs": [],
   "source": [
    "N = 100\n",
    "mu = 0.2\n",
    "sigma = 1\n",
    "x = np.random.randn(N) * sigma + mu"
   ]
  },
  {
   "cell_type": "code",
   "execution_count": 5,
   "metadata": {},
   "outputs": [
    {
     "output_type": "execute_result",
     "data": {
      "text/plain": [
       "(2.5648404153513686, 0.01032232684881584)"
      ]
     },
     "metadata": {},
     "execution_count": 5
    }
   ],
   "source": [
    "# two sided test\n",
    "# comparing to a reference value of 0\n",
    "ztest(x)"
   ]
  },
  {
   "cell_type": "code",
   "execution_count": 7,
   "metadata": {},
   "outputs": [
    {
     "output_type": "stream",
     "name": "stdout",
     "text": [
      "2.564840415351368 0.010322326848815901\n"
     ]
    }
   ],
   "source": [
    "# two sided test - manual\n",
    "mu_hat = x.mean()\n",
    "sigma_hat = x.std(ddof=1)\n",
    "z = mu_hat / (sigma_hat / np.sqrt(N))\n",
    "p_right = 1 - norm.cdf(np.abs(z)) # can also use norm.sf instead of 1 - norm.cdf\n",
    "p_left = norm.cdf(-np.abs(z)) \n",
    "p = p_right + p_left\n",
    "print(z, p)"
   ]
  },
  {
   "cell_type": "code",
   "execution_count": 8,
   "metadata": {},
   "outputs": [
    {
     "output_type": "execute_result",
     "data": {
      "text/plain": [
       "(2.5648404153513686, 0.00516116342440792)"
      ]
     },
     "metadata": {},
     "execution_count": 8
    }
   ],
   "source": [
    "# one-sided test\n",
    "ztest(x, alternative='larger')"
   ]
  },
  {
   "cell_type": "code",
   "execution_count": 9,
   "metadata": {},
   "outputs": [
    {
     "output_type": "stream",
     "name": "stdout",
     "text": [
      "2.564840415351368 0.005161163424407977\n"
     ]
    }
   ],
   "source": [
    "# one-sided test - manual\n",
    "mu_hat = x.mean()\n",
    "sigma_hat = x.std(ddof=1)\n",
    "z = mu_hat / (sigma_hat / np.sqrt(N))\n",
    "p_right = 1 - norm.cdf(np.abs(z)) # can also use norm.sf instead of 1 - norm.cdf\n",
    "p = p_right\n",
    "print(z, p)"
   ]
  },
  {
   "cell_type": "code",
   "execution_count": 10,
   "metadata": {},
   "outputs": [
    {
     "output_type": "execute_result",
     "data": {
      "text/plain": [
       "(0.5904283402851699, 0.5549035151647227)"
      ]
     },
     "metadata": {},
     "execution_count": 10
    }
   ],
   "source": [
    "# null under a diffferent reference value\n",
    "mu0 = 0.2\n",
    "ztest(x, value=mu0)"
   ]
  },
  {
   "cell_type": "code",
   "execution_count": 11,
   "metadata": {},
   "outputs": [
    {
     "output_type": "stream",
     "name": "stdout",
     "text": [
      "0.5904283402851698 0.5549035151647228\n"
     ]
    }
   ],
   "source": [
    "# null under a different reference value - manual\n",
    "mu_hat = x.mean()\n",
    "sigma_hat = x.std(ddof=1)\n",
    "z = (mu_hat - mu0) / (sigma_hat / np.sqrt(N))\n",
    "p_right = 1 - norm.cdf(np.abs(z)) # can also use norm.sf instead of 1 - norm.cdf\n",
    "p_left = norm.cdf(-np.abs(z)) \n",
    "p = p_right + p_left\n",
    "print(z, p)"
   ]
  },
  {
   "cell_type": "code",
   "execution_count": null,
   "metadata": {},
   "outputs": [],
   "source": []
  },
  {
   "cell_type": "code",
   "execution_count": 21,
   "metadata": {},
   "outputs": [],
   "source": [
    "# two-sample test\n",
    "N0 = 100\n",
    "mu0 = 0.2\n",
    "sigma0 = 1\n",
    "x0 = np.random.randn(N0) * sigma0 + mu0\n",
    "\n",
    "N1 = 100\n",
    "mu1 = 0.5\n",
    "sigma1 = 1\n",
    "x1 = np.random.randn(N1) * sigma1 + mu1"
   ]
  },
  {
   "cell_type": "code",
   "execution_count": 22,
   "metadata": {},
   "outputs": [
    {
     "output_type": "execute_result",
     "data": {
      "text/plain": [
       "(-1.472980562560555, 0.1407562770263693)"
      ]
     },
     "metadata": {},
     "execution_count": 22
    }
   ],
   "source": [
    "ztest(x0, x1)"
   ]
  },
  {
   "cell_type": "code",
   "execution_count": 24,
   "metadata": {},
   "outputs": [
    {
     "output_type": "stream",
     "name": "stdout",
     "text": [
      "1.472980562560555 0.14075627702636928\n"
     ]
    }
   ],
   "source": [
    "mu_hat0 = x0.mean()\n",
    "mu_hat1 = x1.mean()\n",
    "dmu_hat = mu_hat1 - mu_hat0\n",
    "sigma2_hat0 = x0.var(ddof=1)\n",
    "sigma2_hat1 = x1.var(ddof=1)\n",
    "sigma_hat = np.sqrt(sigma2_hat0 / N0 + sigma2_hat1 / N1)\n",
    "z = dmu_hat / sigma_hat\n",
    "p_right = 1 - norm.cdf(np.abs(z)) # can also use norm.sf instead of 1 - norm.cdf\n",
    "p_left = norm.cdf(-np.abs(z)) \n",
    "p = p_right + p_left\n",
    "print(z, p)"
   ]
  },
  {
   "cell_type": "code",
   "execution_count": null,
   "metadata": {},
   "outputs": [],
   "source": []
  },
  {
   "cell_type": "code",
   "execution_count": 25,
   "metadata": {},
   "outputs": [
    {
     "output_type": "stream",
     "name": "stdout",
     "text": [
      "0.0527\n"
     ]
    }
   ],
   "source": [
    "# Finally, show that we will reject the null hypothesis when the null hypothesis is true (false alarm) 5% of the time\n",
    "\n",
    "num_tests = 10000\n",
    "results = np.zeros(num_tests)\n",
    "for i in range(num_tests):\n",
    "    x1 = np.random.randn(100)\n",
    "    x2 = np.random.randn(100)\n",
    "    _, p = ztest(x1, x2)\n",
    "    results[i] = (p < 0.05)\n",
    "\n",
    "print(results.mean())"
   ]
  },
  {
   "cell_type": "code",
   "execution_count": null,
   "metadata": {},
   "outputs": [],
   "source": []
  },
  {
   "cell_type": "code",
   "execution_count": null,
   "metadata": {},
   "outputs": [],
   "source": []
  },
  {
   "cell_type": "code",
   "execution_count": 26,
   "metadata": {},
   "outputs": [
    {
     "output_type": "stream",
     "name": "stdout",
     "text": [
      "zsh:1: command not found: wget\n"
     ]
    }
   ],
   "source": []
  }
 ]
}